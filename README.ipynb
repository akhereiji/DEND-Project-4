{
 "cells": [
  {
   "cell_type": "markdown",
   "metadata": {
    "editable": true
   },
   "source": [
    "# PROJECT-4: Data Lake (Submitted by Abdulrahman ElKhereiji DEND 2019)\n",
    "\n",
    "## Introduction\n",
    "\n",
    "*A music streaming startup, Sparkify, has grown their user base and song database even more \n",
    "and want to move their data warehouse to a data lake. \n",
    "Their data resides in S3, in a directory of JSON logs on user activity on the app, as well as a directory with JSON metadata on the songs in their app*\n",
    "\n",
    "*As their data engineer, you are tasked with building an ETL pipeline that extracts their data from S3, processes them using Spark, and loads the data back into S3 as a set of dimensional tables. This will allow their analytics team to continue finding insights in what songs their users are listening to.*\n",
    "\n",
    "## Purpose of this database\n",
    "\n",
    "In this project,  Spark and data lakes shall be used to build an ETL pipeline for a data lake hosted on S3. To complete the project, loading data from S3 shall be required, process the data into analytics tables using Spark, and load them back into S3. Furthermore,  this Spark process shall be deployed on a cluster using AWS.\n",
    "\n",
    "## Setup Instructions and Steps followed \n",
    "\n",
    "The steps of the project:\n",
    "\n",
    "* Rename dl_template.cfg to dl.cfg and fill in the open fields. \n",
    "* Fill in AWS acces key (KEY) and secret (SECRET).\n",
    "* Create an AWS S3 bucket under the name of **(dend-project4-udacity)**\n",
    "* Edit dl.cfg: add your S3 bucket name.\n",
    "* Copy log_data and song_data folders to your own S3 bucket.\n",
    "* Create output_data folder in your S3 bucket.\n",
    "\n",
    "## Datasets available\n",
    "\n",
    "### /data: \n",
    "*This folder consists of two zip files, helpful for data exploration*\n",
    "\n",
    "* This Project-4 handles data of a music streaming startup, Sparkify. Data set is a set of files in JSON format stored in AWS S3 buckets and contains two parts:\n",
    "\n",
    "1) Song data (14897 files)\n",
    "\n",
    "* **s3://udacity-dend/song_data**: static data about artists and songs\n",
    "  Song-data example:\n",
    "  `{\"num_songs\": 1, \"artist_id\": \"ARJIE2Y1187B994AB7\", \"artist_latitude\": null, \"artist_longitude\": null, \"artist_location\": \"\", \"artist_name\": \"Line Renaud\", \"song_id\": \"SOUPIRU12A6D4FA1E1\", \"title\": \"Der Kleine Dompfaff\", \"duration\": 152.92036, \"year\": 0}`\n",
    "\n",
    "2) Log data (31 files)\n",
    "\n",
    "* **s3://udacity-dend/log_data**: event data of service usage e.g. who listened what song, when, where, and with which client\n",
    "\n",
    "### etl.py:\n",
    "*The ETL engine done with Spark, data normalization and parquet file writing*\n",
    "\n",
    "### dl.cfg:\n",
    "*Configuration file that contains info about AWS credentials*\n",
    "\n",
    "### Schema Design:\n",
    "Sparkify analytics database (called here sparkifydb) schema has a star design. Start design means that it has one Fact Table having business data, and supporting Dimension Tables. Star DB design is maybe the most common schema used in ETL pipelines since it separates Dimension data into their own tables in a clean way and collects business critical data into the Fact table allowing flexible queries. The Fact Table answers one of the key questions: what songs users are listening to. DB schema is shown in **Schema Design.png**\n",
    "\n",
    "#### Results:\n",
    "\n",
    "* Input data was available first offline during the development phase and later from s3://udacity-dend/song_data and s3://udacity-dend/log_data\n",
    "* As expected, reading and especially writing data (song_data, log_data) to and from S3 is very slow process due to large amount of input data and slow network connection. See above for figures with 1 song_data file and 1 log_data file.\n",
    "\n",
    "##### Fact Table\n",
    "\n",
    "* **songplays**: song play data together with user, artist, and song info (songplay_id, start_time, user_id, level, song_id, artist_id, session_id, location, user_agent)\n",
    "\n",
    "##### Dimension Tables\n",
    "\n",
    "* **users**: user info (columns: user_id, first_name, last_name, gender, level)\n",
    "* **songs**: song info (columns: song_id, title, artist_id, year, duration)\n",
    "* **artists**: artist info (columns: artist_id, name, location, latitude, longitude)\n",
    "* **time**: detailed time info about song plays (columns: start_time, hour, day, week, month, year, weekday)\n",
    "\n",
    "\n",
    "## Program Execution:\n",
    "* Output data was written to own AWS S3 bucket.\n",
    "* Both Fact table (songplays) and Dimension tables (users, songs, artists, time) are extracted from input data and written back to S3 as Spark parquet files.\n",
    "* Each time `etl.py` is run, it creates new directories for each table to output_data/ directory based on the script start time (e.g. songs_table.parquet_2019-06-10-10-07-20-873438). This way there's no collision or need to erase old data between different runs.\n",
    "* Spark writes temporary folders and files during the parquet file creation process. Used AWS S3 user requires admin rights for Spark to be able to rename (copy + paste + delete) created temp folders and files.\n",
    "* ETL script requires some optimisation for bigger data amounts (e.g. write parquet files locally and only then upload them to S3).\n",
    "* Two folders were created after running the etl.py , which are: **songplays_table.parquet** & **spark-warehouse**\n",
    "* an **etl_test.ipynb** file was created to test the code quality of the project. "
   ]
  },
  {
   "cell_type": "code",
   "execution_count": null,
   "metadata": {
    "editable": true
   },
   "outputs": [],
   "source": []
  }
 ],
 "metadata": {
  "kernelspec": {
   "display_name": "Python 3",
   "language": "python",
   "name": "python3"
  },
  "language_info": {
   "codemirror_mode": {
    "name": "ipython",
    "version": 3
   },
   "file_extension": ".py",
   "mimetype": "text/x-python",
   "name": "python",
   "nbconvert_exporter": "python",
   "pygments_lexer": "ipython3",
   "version": "3.6.3"
  }
 },
 "nbformat": 4,
 "nbformat_minor": 4
}
